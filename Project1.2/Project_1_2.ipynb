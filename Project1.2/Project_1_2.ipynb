{
 "cells": [
  {
   "cell_type": "code",
   "execution_count": 1,
   "metadata": {},
   "outputs": [],
   "source": [
    "import cv2\n",
    "import imutils\n",
    "import numpy as np\n",
    "import matplotlib.pyplot as plt\n",
    "import json \n",
    "import os"
   ]
  },
  {
   "cell_type": "markdown",
   "metadata": {},
   "source": [
    "### Load data"
   ]
  },
  {
   "cell_type": "code",
   "execution_count": 2,
   "metadata": {},
   "outputs": [],
   "source": [
    "# Load annotations\n",
    "annotations = json.load(open(os.path.join('Project1.2', 'annotations.json')))"
   ]
  },
  {
   "cell_type": "code",
   "execution_count": 3,
   "metadata": {},
   "outputs": [],
   "source": [
    "# Load images\n",
    "data_path = '/dtu/datasets1/02514/data_wastedetection/'\n",
    "images = {}\n",
    "for image_id in range(len(annotations['images'])):\n",
    "    images[image_id] = cv2.imread(os.path.join(data_path, annotations['images'][image_id]['file_name']))"
   ]
  },
  {
   "cell_type": "code",
   "execution_count": 4,
   "metadata": {},
   "outputs": [],
   "source": [
    "# Get bounding box for every image \n",
    "annotations['bounding_boxes'] = {}\n",
    "for image_id in range(len(annotations['images'])):\n",
    "    bbxstart = 10000\n",
    "    bbxfin = 0\n",
    "    bbystart = 10000\n",
    "    bbyfin = 0\n",
    "    for id, value in enumerate(annotations['annotations'][image_id]['segmentation'][0]):\n",
    "        if id % 2 == 0:\n",
    "            if bbxstart > value: bbxstart = value\n",
    "            if bbxfin < value: bbxfin = value\n",
    "        else:\n",
    "            if bbystart > value: bbystart = value\n",
    "            if bbyfin < value: bbyfin = value\n",
    "\n",
    "    annotations['bounding_boxes'][image_id] = [int(bbxstart), int(bbystart), int(bbxfin), int(bbyfin)]"
   ]
  },
  {
   "cell_type": "markdown",
   "metadata": {},
   "source": [
    "### Resize images and bounding boxes"
   ]
  },
  {
   "cell_type": "code",
   "execution_count": 5,
   "metadata": {},
   "outputs": [],
   "source": [
    "def resize(image, BB_start, BB_width, BB_height, size=(224, 224)):\n",
    "    ### resize image\n",
    "    img_resized = cv2.resize(image.copy(), size, interpolation = cv2.INTER_AREA)\n",
    "    \n",
    "    ### resize BB\n",
    "    # get x and y ratio\n",
    "    lx = size[0]/image.shape[1]\n",
    "    ly = size[1]/image.shape[0]\n",
    "    \n",
    "    # get new (x,y), width, height\n",
    "    BB_new_start = (int(BB_start[0]*lx), int(BB_start[1]*ly))\n",
    "    BB_new_width = int(BB_width*ly)\n",
    "    BB_new_height = int(BB_height*lx)\n",
    "    \n",
    "    return img_resized, BB_new_start, BB_new_width, BB_new_height"
   ]
  },
  {
   "cell_type": "code",
   "execution_count": 7,
   "metadata": {},
   "outputs": [],
   "source": [
    "# Resize images and bounding boxes\n",
    "resized_images = []\n",
    "annotations['new_bounding_boxes'] = {}\n",
    "for image_id in images:\n",
    "    \n",
    "    # Resize images and bounding boxes\n",
    "    width = annotations['bounding_boxes'][image_id][2] - annotations['bounding_boxes'][image_id][0]\n",
    "    height = annotations['bounding_boxes'][image_id][3] - annotations['bounding_boxes'][image_id][1]\n",
    "    new_image, new_bb, new_width, new_height = resize(images[image_id], (annotations['bounding_boxes'][image_id][0], annotations['bounding_boxes'][image_id][1]), width, height)\n",
    "    \n",
    "    # write resized images\n",
    "    resized_images.append(new_image)\n",
    "\n",
    "    # write new bounding boxes\n",
    "    annotations['new_bounding_boxes'][image_id] = [int(new_bb[0]), int(new_bb[1]), int(new_bb[0] + new_width), int(new_bb[1] + new_height)]"
   ]
  },
  {
   "cell_type": "code",
   "execution_count": null,
   "metadata": {},
   "outputs": [],
   "source": []
  }
 ],
 "metadata": {
  "kernelspec": {
   "display_name": "Python 3 (ipykernel)",
   "language": "python",
   "name": "python3"
  },
  "language_info": {
   "codemirror_mode": {
    "name": "ipython",
    "version": 3
   },
   "file_extension": ".py",
   "mimetype": "text/x-python",
   "name": "python",
   "nbconvert_exporter": "python",
   "pygments_lexer": "ipython3",
   "version": "3.8.2"
  },
  "orig_nbformat": 4
 },
 "nbformat": 4,
 "nbformat_minor": 2
}
